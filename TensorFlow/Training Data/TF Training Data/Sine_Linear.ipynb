{
  "nbformat": 4,
  "nbformat_minor": 0,
  "metadata": {
    "colab": {
      "name": "Sine/Linear",
      "provenance": []
    },
    "kernelspec": {
      "name": "python3",
      "display_name": "Python 3"
    }
  },
  "cells": [
    {
      "cell_type": "code",
      "metadata": {
        "id": "A0XYcQ5YX_0i"
      },
      "source": [
        "import numpy as np\r\n",
        "import pandas as pd\r\n",
        "\r\n",
        "%tensorflow_version 2.x\r\n",
        "\r\n",
        "\r\n",
        "import tensorflow as tf  # now import the tensorflow module\r\n",
        "import matplotlib.pyplot as plt\r\n",
        "import math\r\n",
        "from tensorflow.keras import layers"
      ],
      "execution_count": 156,
      "outputs": []
    },
    {
      "cell_type": "code",
      "metadata": {
        "colab": {
          "base_uri": "https://localhost:8080/"
        },
        "id": "EdbCJU-ojhyW",
        "outputId": "aa87d297-8ea8-4197-c16f-0632af72bb94"
      },
      "source": [
        "data = pd.read_csv(\"Sine2.csv\",\r\n",
        "        names=[\"X\", \"Y\", \"Z\"])\r\n",
        "X_data = data.pop(\"Z\")\r\n",
        "X_data = data\r\n",
        "\r\n",
        "\r\n",
        "\r\n",
        "data2 = pd.read_csv(\"Sine2.csv\",\r\n",
        "        names=[\"X\", \"Y\", \"Z\"])\r\n",
        "Y_data = data2.pop(\"X\")\r\n",
        "Y_data = data2.pop(\"Y\")\r\n",
        "Y_data = data2\r\n",
        "\r\n",
        "\r\n",
        "X_data.shape"
      ],
      "execution_count": 157,
      "outputs": [
        {
          "output_type": "execute_result",
          "data": {
            "text/plain": [
              "(2001, 2)"
            ]
          },
          "metadata": {
            "tags": []
          },
          "execution_count": 157
        }
      ]
    },
    {
      "cell_type": "code",
      "metadata": {
        "id": "djFHz14Xkz-f"
      },
      "source": [
        "# Create a model\r\n",
        "model = tf.keras.Sequential()\r\n",
        "model.add(layers.Dense(16, input_dim=2, activation='relu',input_shape=(2001,2)))\r\n",
        "model.add(layers.Dense(16, activation='relu'))\r\n",
        "model.add(layers.Dense(1))\r\n",
        "#model.summary()"
      ],
      "execution_count": 158,
      "outputs": []
    },
    {
      "cell_type": "code",
      "metadata": {
        "colab": {
          "base_uri": "https://localhost:8080/",
          "height": 369
        },
        "id": "PZlGkkoaug12",
        "outputId": "fec09461-6c8e-492b-9ca3-3bac40832fcb"
      },
      "source": [
        "#Functional Mode\r\n",
        "inputs = tf.keras.Input(shape=(2001,2))\r\n",
        "denseInput = layers.Dense(64, activation=\"relu\")\r\n",
        "x = denseInput(inputs)\r\n",
        "\r\n",
        "x = layers.Dense(64, activation=\"relu\")(x)\r\n",
        "outputs = layers.Dense(10)(x)\r\n",
        "\r\n",
        "functionalmodel = tf.keras.Model(inputs=inputs, outputs=outputs, name=\"mnist_model\")\r\n",
        "\r\n",
        "tf.keras.utils.plot_model(functionalmodel, \"my_first_model.png\")"
      ],
      "execution_count": 159,
      "outputs": [
        {
          "output_type": "execute_result",
          "data": {
            "image/png": "[encoded data removed]",
            "text/plain": [
              "<IPython.core.display.Image object>"
            ]
          },
          "metadata": {
            "tags": []
          },
          "execution_count": 159
        }
      ]
    },
    {
      "cell_type": "code",
      "metadata": {
        "id": "sdpXMQntk5SV"
      },
      "source": [
        "# Add optimizer, loss function, and metrics to model and compile it\r\n",
        "model.compile(optimizer='rmsprop', loss='mae', metrics=['mae'])"
      ],
      "execution_count": 160,
      "outputs": []
    },
    {
      "cell_type": "code",
      "metadata": {
        "colab": {
          "base_uri": "https://localhost:8080/"
        },
        "id": "Ch3_j8aGlB1E",
        "outputId": "bc4ac248-f336-4663-ddfe-ab3d0ed9de2d"
      },
      "source": [
        "history = model.fit(X_data,Y_data , epochs=50)"
      ],
      "execution_count": 161,
      "outputs": [
        {
          "output_type": "stream",
          "text": [
            "Epoch 1/50\n",
            "WARNING:tensorflow:Model was constructed with shape (None, 2001, 2) for input KerasTensor(type_spec=TensorSpec(shape=(None, 2001, 2), dtype=tf.float32, name='dense_77_input'), name='dense_77_input', description=\"created by layer 'dense_77_input'\"), but it was called on an input with incompatible shape (None, 2).\n",
            "WARNING:tensorflow:Model was constructed with shape (None, 2001, 2) for input KerasTensor(type_spec=TensorSpec(shape=(None, 2001, 2), dtype=tf.float32, name='dense_77_input'), name='dense_77_input', description=\"created by layer 'dense_77_input'\"), but it was called on an input with incompatible shape (None, 2).\n",
            "63/63 [==============================] - 1s 1ms/step - loss: 0.3208 - mae: 0.3208\n",
            "Epoch 2/50\n",
            "63/63 [==============================] - 0s 1ms/step - loss: 0.0182 - mae: 0.0182\n",
            "Epoch 3/50\n",
            "63/63 [==============================] - 0s 1ms/step - loss: 0.0083 - mae: 0.0083\n",
            "Epoch 4/50\n",
            "63/63 [==============================] - 0s 1ms/step - loss: 0.0066 - mae: 0.0066\n",
            "Epoch 5/50\n",
            "63/63 [==============================] - 0s 1ms/step - loss: 0.0064 - mae: 0.0064\n",
            "Epoch 6/50\n",
            "63/63 [==============================] - 0s 1ms/step - loss: 0.0067 - mae: 0.0067\n",
            "Epoch 7/50\n",
            "63/63 [==============================] - 0s 1ms/step - loss: 0.0068 - mae: 0.0068\n",
            "Epoch 8/50\n",
            "63/63 [==============================] - 0s 1ms/step - loss: 0.0061 - mae: 0.0061\n",
            "Epoch 9/50\n",
            "63/63 [==============================] - 0s 1ms/step - loss: 0.0061 - mae: 0.0061\n",
            "Epoch 10/50\n",
            "63/63 [==============================] - 0s 1ms/step - loss: 0.0061 - mae: 0.0061\n",
            "Epoch 11/50\n",
            "63/63 [==============================] - 0s 1ms/step - loss: 0.0066 - mae: 0.0066\n",
            "Epoch 12/50\n",
            "63/63 [==============================] - 0s 1ms/step - loss: 0.0062 - mae: 0.0062\n",
            "Epoch 13/50\n",
            "63/63 [==============================] - 0s 1ms/step - loss: 0.0060 - mae: 0.0060\n",
            "Epoch 14/50\n",
            "63/63 [==============================] - 0s 1ms/step - loss: 0.0058 - mae: 0.0058\n",
            "Epoch 15/50\n",
            "63/63 [==============================] - 0s 1ms/step - loss: 0.0062 - mae: 0.0062\n",
            "Epoch 16/50\n",
            "63/63 [==============================] - 0s 1ms/step - loss: 0.0057 - mae: 0.0057\n",
            "Epoch 17/50\n",
            "63/63 [==============================] - 0s 1ms/step - loss: 0.0060 - mae: 0.0060\n",
            "Epoch 18/50\n",
            "63/63 [==============================] - 0s 1ms/step - loss: 0.0055 - mae: 0.0055\n",
            "Epoch 19/50\n",
            "63/63 [==============================] - 0s 1ms/step - loss: 0.0053 - mae: 0.0053\n",
            "Epoch 20/50\n",
            "63/63 [==============================] - 0s 1ms/step - loss: 0.0062 - mae: 0.0062\n",
            "Epoch 21/50\n",
            "63/63 [==============================] - 0s 1ms/step - loss: 0.0062 - mae: 0.0062\n",
            "Epoch 22/50\n",
            "63/63 [==============================] - 0s 1ms/step - loss: 0.0056 - mae: 0.0056\n",
            "Epoch 23/50\n",
            "63/63 [==============================] - 0s 1ms/step - loss: 0.0057 - mae: 0.0057\n",
            "Epoch 24/50\n",
            "63/63 [==============================] - 0s 1ms/step - loss: 0.0057 - mae: 0.0057\n",
            "Epoch 25/50\n",
            "63/63 [==============================] - 0s 1ms/step - loss: 0.0059 - mae: 0.0059\n",
            "Epoch 26/50\n",
            "63/63 [==============================] - 0s 1ms/step - loss: 0.0059 - mae: 0.0059\n",
            "Epoch 27/50\n",
            "63/63 [==============================] - 0s 1ms/step - loss: 0.0054 - mae: 0.0054\n",
            "Epoch 28/50\n",
            "63/63 [==============================] - 0s 1ms/step - loss: 0.0056 - mae: 0.0056\n",
            "Epoch 29/50\n",
            "63/63 [==============================] - 0s 1ms/step - loss: 0.0056 - mae: 0.0056\n",
            "Epoch 30/50\n",
            "63/63 [==============================] - 0s 1ms/step - loss: 0.0056 - mae: 0.0056\n",
            "Epoch 31/50\n",
            "63/63 [==============================] - 0s 1ms/step - loss: 0.0054 - mae: 0.0054\n",
            "Epoch 32/50\n",
            "63/63 [==============================] - 0s 1ms/step - loss: 0.0053 - mae: 0.0053\n",
            "Epoch 33/50\n",
            "63/63 [==============================] - 0s 1ms/step - loss: 0.0054 - mae: 0.0054\n",
            "Epoch 34/50\n",
            "63/63 [==============================] - 0s 1ms/step - loss: 0.0056 - mae: 0.0056\n",
            "Epoch 35/50\n",
            "63/63 [==============================] - 0s 1ms/step - loss: 0.0058 - mae: 0.0058\n",
            "Epoch 36/50\n",
            "63/63 [==============================] - 0s 1ms/step - loss: 0.0056 - mae: 0.0056\n",
            "Epoch 37/50\n",
            "63/63 [==============================] - 0s 1ms/step - loss: 0.0053 - mae: 0.0053\n",
            "Epoch 38/50\n",
            "63/63 [==============================] - 0s 1ms/step - loss: 0.0057 - mae: 0.0057\n",
            "Epoch 39/50\n",
            "63/63 [==============================] - 0s 1ms/step - loss: 0.0051 - mae: 0.0051\n",
            "Epoch 40/50\n",
            "63/63 [==============================] - 0s 1ms/step - loss: 0.0055 - mae: 0.0055\n",
            "Epoch 41/50\n",
            "63/63 [==============================] - 0s 1ms/step - loss: 0.0055 - mae: 0.0055\n",
            "Epoch 42/50\n",
            "63/63 [==============================] - 0s 1ms/step - loss: 0.0054 - mae: 0.0054\n",
            "Epoch 43/50\n",
            "63/63 [==============================] - 0s 1ms/step - loss: 0.0055 - mae: 0.0055\n",
            "Epoch 44/50\n",
            "63/63 [==============================] - 0s 1ms/step - loss: 0.0052 - mae: 0.0052\n",
            "Epoch 45/50\n",
            "63/63 [==============================] - 0s 1ms/step - loss: 0.0054 - mae: 0.0054\n",
            "Epoch 46/50\n",
            "63/63 [==============================] - 0s 1ms/step - loss: 0.0049 - mae: 0.0049\n",
            "Epoch 47/50\n",
            "63/63 [==============================] - 0s 1ms/step - loss: 0.0057 - mae: 0.0057\n",
            "Epoch 48/50\n",
            "63/63 [==============================] - 0s 1ms/step - loss: 0.0055 - mae: 0.0055\n",
            "Epoch 49/50\n",
            "63/63 [==============================] - 0s 1ms/step - loss: 0.0055 - mae: 0.0055\n",
            "Epoch 50/50\n",
            "63/63 [==============================] - 0s 1ms/step - loss: 0.0056 - mae: 0.0056\n"
          ],
          "name": "stdout"
        }
      ]
    },
    {
      "cell_type": "code",
      "metadata": {
        "colab": {
          "base_uri": "https://localhost:8080/",
          "height": 298
        },
        "id": "x9E8Z_0hlRgV",
        "outputId": "079e439d-6be7-48d3-9453-62047753fb55"
      },
      "source": [
        "#plot training history\r\n",
        "loss = history.history['loss']\r\n",
        "\r\n",
        "\r\n",
        "epochs = range(1, len(loss) + 1)\r\n",
        "\r\n",
        "plt.plot(epochs, loss, 'bo', label='training loss')\r\n",
        "plt.plot(epochs, loss, 'r', label='validation loss')\r\n",
        "plt.title('training and validation loss')\r\n",
        "plt.legend\r\n",
        "plt.show"
      ],
      "execution_count": 162,
      "outputs": [
        {
          "output_type": "execute_result",
          "data": {
            "text/plain": [
              "<function matplotlib.pyplot.show>"
            ]
          },
          "metadata": {
            "tags": []
          },
          "execution_count": 162
        },
        {
          "output_type": "display_data",
          "data": {
            "image/png": "[encoded data removed]",
            "text/plain": [
              "<Figure size 432x288 with 1 Axes>"
            ]
          },
          "metadata": {
            "tags": [],
            "needs_background": "light"
          }
        }
      ]
    },
    {
      "cell_type": "code",
      "metadata": {
        "colab": {
          "base_uri": "https://localhost:8080/",
          "height": 334
        },
        "id": "ushiabgemOI2",
        "outputId": "4f9c5a8c-f126-4369-8f09-7dfc7336c0a7"
      },
      "source": [
        "predictions = model.predict(X_data)\r\n",
        "\r\n",
        "plt.clf()\r\n",
        "plt.title('compare prediction to actual')\r\n",
        "plt.plot(X_data,Y_data, 'b.', label='Actual')\r\n",
        "plt.plot(X_data,predictions, 'r.', label='Predicted')\r\n",
        "\r\n",
        "plt.legend()\r\n",
        "plt.show"
      ],
      "execution_count": 163,
      "outputs": [
        {
          "output_type": "stream",
          "text": [
            "WARNING:tensorflow:Model was constructed with shape (None, 2001, 2) for input KerasTensor(type_spec=TensorSpec(shape=(None, 2001, 2), dtype=tf.float32, name='dense_77_input'), name='dense_77_input', description=\"created by layer 'dense_77_input'\"), but it was called on an input with incompatible shape (None, 2).\n"
          ],
          "name": "stdout"
        },
        {
          "output_type": "execute_result",
          "data": {
            "text/plain": [
              "<function matplotlib.pyplot.show>"
            ]
          },
          "metadata": {
            "tags": []
          },
          "execution_count": 163
        },
        {
          "output_type": "display_data",
          "data": {
            "image/png": "[encoded data removed]",
            "text/plain": [
              "<Figure size 432x288 with 1 Axes>"
            ]
          },
          "metadata": {
            "tags": [],
            "needs_background": "light"
          }
        }
      ]
    }
  ]
}